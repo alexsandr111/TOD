{
 "cells": [
  {
   "cell_type": "markdown",
   "metadata": {
    "id": "36Qx9eHdXZky"
   },
   "source": [
    "# Numpy"
   ]
  },
  {
   "cell_type": "markdown",
   "metadata": {
    "id": "sW3qeSZEXZk0"
   },
   "source": [
    "Материалы:\n",
    "* Макрушин С.В. \"Лекция 1: Библиотека Numpy\"\n",
    "* https://numpy.org/doc/stable/user/index.html\n",
    "* https://numpy.org/doc/stable/reference/index.html"
   ]
  },
  {
   "cell_type": "markdown",
   "metadata": {
    "id": "QLu2-i7SXZk1"
   },
   "source": [
    "## Задачи для совместного разбора"
   ]
  },
  {
   "cell_type": "markdown",
   "metadata": {
    "id": "8zQsIi8fXZk1"
   },
   "source": [
    "1. Сгенерировать двухмерный массив `arr` размерности (4, 7), состоящий из случайных действительных чисел, равномерно распределенных в диапазоне от 0 до 20. Нормализовать значения массива с помощью преобразования вида  $𝑎𝑥+𝑏$  так, что после нормализации максимальный элемент масcива будет равен 1.0, минимальный 0.0"
   ]
  },
  {
   "cell_type": "code",
   "execution_count": 32,
   "metadata": {
    "id": "t1ZVRPNJXZk2"
   },
   "outputs": [
    {
     "data": {
      "text/plain": [
       "array([0.28064613, 0.31482534, 0.26283767, 0.44798558, 0.64411139,\n",
       "       0.35909879, 0.09228546])"
      ]
     },
     "execution_count": 32,
     "metadata": {},
     "output_type": "execute_result"
    }
   ],
   "source": [
    "import numpy as np\n",
    "arr=np.random.uniform(0,20,7)\n",
    "arr=arr/np.linalg.norm(arr)\n",
    "arr"
   ]
  },
  {
   "cell_type": "markdown",
   "metadata": {
    "id": "6HFan2EWXZk2"
   },
   "source": [
    "2. Создать матрицу 8 на 10 из случайных целых (используя модуль `numpy.random`) чисел из диапозона от 0 до 10 и найти в ней строку (ее индекс и вывести саму строку), в которой сумма значений минимальна."
   ]
  },
  {
   "cell_type": "code",
   "execution_count": 39,
   "metadata": {},
   "outputs": [
    {
     "name": "stdout",
     "output_type": "stream",
     "text": [
      "32 [0 0 4 2 7 0 7 4 0 8]\n"
     ]
    }
   ],
   "source": [
    "matrix=np.array([[np.random.randint(11) for i in range(10)] for i in range(8)])\n",
    "matrix\n",
    "m=10**5\n",
    "for i in range(8):\n",
    "    t=sum(matrix[i,:])\n",
    "    if t<m:\n",
    "        m=t\n",
    "        r=i\n",
    "print(m,matrix[r,:])"
   ]
  },
  {
   "cell_type": "markdown",
   "metadata": {
    "id": "Hk4SGXbUXZk3"
   },
   "source": [
    "3. Найти евклидово расстояние между двумя одномерными векторами одинаковой размерности."
   ]
  },
  {
   "cell_type": "code",
   "execution_count": 40,
   "metadata": {},
   "outputs": [
    {
     "data": {
      "text/plain": [
       "5.830951894845301"
      ]
     },
     "execution_count": 40,
     "metadata": {},
     "output_type": "execute_result"
    }
   ],
   "source": [
    "a,b=np.array([0,0]),np.array([5,3])\n",
    "np.linalg.norm(a-b)"
   ]
  },
  {
   "cell_type": "markdown",
   "metadata": {
    "id": "yYxUlXEpXZk3"
   },
   "source": [
    "4. Решить матричное уравнение `A*X*B=-C` - найти матрицу `X`. Где `A = [[-1, 2, 4], [-3, 1, 2], [-3, 0, 1]]`, `B=[[3, -1], [2, 1]]`, `C=[[7, 21], [11, 8], [8, 4]]`."
   ]
  },
  {
   "cell_type": "code",
   "execution_count": 44,
   "metadata": {},
   "outputs": [
    {
     "data": {
      "text/plain": [
       "array([[ 1.00000000e+00,  1.02140518e-15],\n",
       "       [-2.00000000e+00,  1.00000000e+00],\n",
       "       [ 3.00000000e+00, -4.00000000e+00]])"
      ]
     },
     "execution_count": 44,
     "metadata": {},
     "output_type": "execute_result"
    }
   ],
   "source": [
    "a=np.array([[-1, 2, 4], [-3, 1, 2], [-3, 0, 1]])\n",
    "b=np.array([[3, -1], [2, 1]])\n",
    "c=np.array([[7, 21], [11, 8], [8, 4]])\n",
    "np.linalg.inv(a)\n",
    "np.linalg.inv(a)@(-c)@np.linalg.inv(b)"
   ]
  },
  {
   "cell_type": "markdown",
   "metadata": {
    "id": "xw3ddSkiXZk4"
   },
   "source": [
    "## Лабораторная работа №1"
   ]
  },
  {
   "cell_type": "markdown",
   "metadata": {
    "id": "1sg-poU1XZk4"
   },
   "source": [
    "Замечание: при решении данных задач не подразумевается использования циклов или генераторов Python, если в задании не сказано обратного. Решение должно опираться на использования функционала библиотеки `numpy`."
   ]
  },
  {
   "cell_type": "markdown",
   "metadata": {
    "id": "4sH6zWa_XZk4"
   },
   "source": [
    "1. Файл `minutes_n_ingredients.csv` содержит информацию об идентификаторе рецепта, времени его выполнения в минутах и количестве необходимых ингредиентов. Считайте данные из этого файла в виде массива `numpy` типа `int32`, используя `np.loadtxt`. Выведите на экран первые 5 строк массива."
   ]
  },
  {
   "cell_type": "code",
   "execution_count": 29,
   "metadata": {},
   "outputs": [
    {
     "data": {
      "text/plain": [
       "array([[127244,     60,     16],\n",
       "       [ 23891,     25,      7],\n",
       "       [ 94746,     10,      6],\n",
       "       [ 67660,      5,      6],\n",
       "       [157911,     60,     14]])"
      ]
     },
     "execution_count": 29,
     "metadata": {},
     "output_type": "execute_result"
    }
   ],
   "source": [
    "import numpy as np\n",
    "df=np.loadtxt(\"minutes_n_ingredients.csv\",dtype=\"int32\",delimiter=\",\",skiprows=1)\n",
    "df[:5]"
   ]
  },
  {
   "cell_type": "markdown",
   "metadata": {
    "id": "UvLrPmfcXZk5"
   },
   "source": [
    "2. Вычислите среднее значение, минимум, максимум и медиану по каждому из столбцов, кроме первого."
   ]
  },
  {
   "cell_type": "code",
   "execution_count": 3,
   "metadata": {},
   "outputs": [
    {
     "name": "stdout",
     "output_type": "stream",
     "text": [
      "среднее: [2.16010017e+04 9.05528000e+00]\n",
      "минимум: [0 1]\n",
      "максимум: [2147483647         39]\n",
      "медиана: [40.  9.]\n"
     ]
    }
   ],
   "source": [
    "print(\"mean:\",df[:,1:].mean(axis=0))\n",
    "print(\"min:\",df[:,1:].min(axis=0))\n",
    "print(\"max:\",df[:,1:].max(axis=0))\n",
    "print(\"med:\",np.median(df[:, 1:], axis=0))"
   ]
  },
  {
   "cell_type": "markdown",
   "metadata": {
    "id": "VJvegQ0vXZk5"
   },
   "source": [
    "3. Ограничьте сверху значения продолжительности выполнения рецепта значением квантиля $q_{0.75}$. "
   ]
  },
  {
   "cell_type": "code",
   "execution_count": 4,
   "metadata": {},
   "outputs": [
    {
     "name": "stdout",
     "output_type": "stream",
     "text": [
      "квантиль: 65.0\n"
     ]
    },
    {
     "data": {
      "text/plain": [
       "array([[127244,     60,     16],\n",
       "       [ 23891,     25,      7],\n",
       "       [ 94746,     10,      6],\n",
       "       ...,\n",
       "       [371794,     35,      8],\n",
       "       [ 43407,     35,      7],\n",
       "       [370915,      5,      4]])"
      ]
     },
     "execution_count": 4,
     "metadata": {},
     "output_type": "execute_result"
    }
   ],
   "source": [
    "q=np.quantile(df[:,1],.75,axis=0)\n",
    "print(\"квантиль:\",q)\n",
    "arr_=df[:,1]<q\n",
    "df=df[arr_]\n",
    "df"
   ]
  },
  {
   "cell_type": "markdown",
   "metadata": {
    "id": "Yo8oF1CRXZk5"
   },
   "source": [
    "4. Посчитайте, для скольких рецептов указана продолжительность, равная нулю. Замените для таких строк значение в данном столбце на 1."
   ]
  },
  {
   "cell_type": "code",
   "execution_count": 5,
   "metadata": {},
   "outputs": [
    {
     "name": "stdout",
     "output_type": "stream",
     "text": [
      "479\n"
     ]
    },
    {
     "data": {
      "text/plain": [
       "array([[127244,     60,     16],\n",
       "       [ 23891,     25,      7],\n",
       "       [ 94746,     10,      6],\n",
       "       ...,\n",
       "       [371794,     35,      8],\n",
       "       [ 43407,     35,      7],\n",
       "       [370915,      5,      4]])"
      ]
     },
     "execution_count": 5,
     "metadata": {},
     "output_type": "execute_result"
    }
   ],
   "source": [
    "print(len(np.where(df[:,1]==0)[0]))\n",
    "df[df[:,1]==0]=1\n",
    "df"
   ]
  },
  {
   "cell_type": "markdown",
   "metadata": {
    "id": "MfxfaYUDXZk5"
   },
   "source": [
    "5. Посчитайте, сколько уникальных рецептов находится в датасете."
   ]
  },
  {
   "cell_type": "code",
   "execution_count": 6,
   "metadata": {},
   "outputs": [
    {
     "data": {
      "text/plain": [
       "72628"
      ]
     },
     "execution_count": 6,
     "metadata": {},
     "output_type": "execute_result"
    }
   ],
   "source": [
    "len(np.unique(df[:,0]))"
   ]
  },
  {
   "cell_type": "markdown",
   "metadata": {
    "id": "TeXHXuxsXZk5"
   },
   "source": [
    "6. Сколько и каких различных значений кол-ва ингредиентов присутвует в рецептах из датасета?"
   ]
  },
  {
   "cell_type": "code",
   "execution_count": 7,
   "metadata": {},
   "outputs": [
    {
     "data": {
      "text/plain": [
       "(32,\n",
       " array([ 1,  2,  3,  4,  5,  6,  7,  8,  9, 10, 11, 12, 13, 14, 15, 16, 17,\n",
       "        18, 19, 20, 21, 22, 23, 24, 25, 26, 27, 28, 29, 30, 33, 34]))"
      ]
     },
     "execution_count": 7,
     "metadata": {},
     "output_type": "execute_result"
    }
   ],
   "source": [
    "len(np.unique(df[:,2])),np.unique(df[:,2])"
   ]
  },
  {
   "cell_type": "markdown",
   "metadata": {
    "id": "yq0TYtc7XZk6"
   },
   "source": [
    "7. Создайте версию массива, содержащую информацию только о рецептах, состоящих не более чем из 5 ингредиентов."
   ]
  },
  {
   "cell_type": "code",
   "execution_count": 8,
   "metadata": {},
   "outputs": [
    {
     "data": {
      "text/plain": [
       "array([[446597,     15,      5],\n",
       "       [204134,      5,      3],\n",
       "       [ 25623,      6,      4],\n",
       "       ...,\n",
       "       [ 52088,     60,      5],\n",
       "       [128811,     15,      4],\n",
       "       [370915,      5,      4]])"
      ]
     },
     "execution_count": 8,
     "metadata": {},
     "output_type": "execute_result"
    }
   ],
   "source": [
    "df_1=df[df[:,2]<=5]\n",
    "df_1"
   ]
  },
  {
   "cell_type": "markdown",
   "metadata": {
    "id": "feEvfsiFXZk6"
   },
   "source": [
    "8. Для каждого рецепта посчитайте, сколько в среднем ингредиентов приходится на одну минуту рецепта. Найдите максимальное значение этой величины для всего датасета"
   ]
  },
  {
   "cell_type": "code",
   "execution_count": 25,
   "metadata": {},
   "outputs": [
    {
     "data": {
      "text/plain": [
       "23.0"
      ]
     },
     "execution_count": 25,
     "metadata": {},
     "output_type": "execute_result"
    }
   ],
   "source": [
    "max(df[:,2] / df[:,1])"
   ]
  },
  {
   "cell_type": "markdown",
   "metadata": {
    "id": "_VhDQ2SSXZk6"
   },
   "source": [
    "9. Вычислите среднее количество ингредиентов для топ-100 рецептов с наибольшей продолжительностью"
   ]
  },
  {
   "cell_type": "code",
   "execution_count": 12,
   "metadata": {},
   "outputs": [
    {
     "data": {
      "text/plain": [
       "0.0"
      ]
     },
     "execution_count": 12,
     "metadata": {},
     "output_type": "execute_result"
    }
   ],
   "source": [
    "df[df[:,1]].argsort()[-100:,2].mean(axis=0)"
   ]
  },
  {
   "cell_type": "markdown",
   "metadata": {
    "id": "bhjRc3opXZk6"
   },
   "source": [
    "10. Выберите случайным образом и выведите информацию о 10 различных рецептах"
   ]
  },
  {
   "cell_type": "code",
   "execution_count": 15,
   "metadata": {},
   "outputs": [
    {
     "data": {
      "text/plain": [
       "array([[412980,      5,      5],\n",
       "       [170753,     50,     14],\n",
       "       [344419,     30,     13],\n",
       "       [ 65567,     21,      6],\n",
       "       [176500,     40,      9],\n",
       "       [289471,     15,      9],\n",
       "       [ 80342,     20,      8],\n",
       "       [386183,     45,     15],\n",
       "       [ 54530,     15,      4],\n",
       "       [187949,     20,     11]])"
      ]
     },
     "execution_count": 15,
     "metadata": {},
     "output_type": "execute_result"
    }
   ],
   "source": [
    "df[[np.random.choice(np.arange(len(df))) for i in  range(10)]]"
   ]
  },
  {
   "cell_type": "markdown",
   "metadata": {
    "id": "Ro9WjaJHXZk7"
   },
   "source": [
    "11. Выведите процент рецептов, кол-во ингредиентов в которых меньше среднего."
   ]
  },
  {
   "cell_type": "code",
   "execution_count": 16,
   "metadata": {},
   "outputs": [
    {
     "data": {
      "text/plain": [
       "53.29795092058107"
      ]
     },
     "execution_count": 16,
     "metadata": {},
     "output_type": "execute_result"
    }
   ],
   "source": [
    "mn=df[:,2].mean()\n",
    "dflm=df[df[:,2]<mn]\n",
    "len(dflm)/len(df)*100"
   ]
  },
  {
   "cell_type": "markdown",
   "metadata": {
    "id": "3Ly5pNySXZk7"
   },
   "source": [
    "12. Назовем \"простым\" такой рецепт, длительность выполнения которого не больше 20 минут и кол-во ингредиентов в котором не больше 5. Создайте версию датасета с дополнительным столбцом, значениями которого являются 1, если рецепт простой, и 0 в противном случае."
   ]
  },
  {
   "cell_type": "code",
   "execution_count": 20,
   "metadata": {},
   "outputs": [
    {
     "data": {
      "text/plain": [
       "array([[1.27244e+05, 6.00000e+01, 1.60000e+01, 0.00000e+00],\n",
       "       [2.38910e+04, 2.50000e+01, 7.00000e+00, 0.00000e+00],\n",
       "       [9.47460e+04, 1.00000e+01, 6.00000e+00, 0.00000e+00],\n",
       "       ...,\n",
       "       [3.71794e+05, 3.50000e+01, 8.00000e+00, 0.00000e+00],\n",
       "       [4.34070e+04, 3.50000e+01, 7.00000e+00, 0.00000e+00],\n",
       "       [3.70915e+05, 5.00000e+00, 4.00000e+00, 1.00000e+00]])"
      ]
     },
     "execution_count": 20,
     "metadata": {},
     "output_type": "execute_result"
    }
   ],
   "source": [
    "df2=np.hstack([df,np.zeros(len(df)).reshape(len(df),1)])\n",
    "df2[:,3]=(df[:,1]<=20)&(df[:,2]<=5)\n",
    "df2"
   ]
  },
  {
   "cell_type": "markdown",
   "metadata": {
    "id": "1h4cig32XZk7"
   },
   "source": [
    "13. Выведите процент \"простых\" рецептов в датасете"
   ]
  },
  {
   "cell_type": "code",
   "execution_count": 24,
   "metadata": {},
   "outputs": [
    {
     "data": {
      "text/plain": [
       "13.60079884004049"
      ]
     },
     "execution_count": 24,
     "metadata": {},
     "output_type": "execute_result"
    }
   ],
   "source": [
    "df2[:,3].sum()/len(df2)*100"
   ]
  },
  {
   "cell_type": "markdown",
   "metadata": {
    "id": "qR4lVThaXZk7"
   },
   "source": [
    "14. Разделим рецепты на группы по следующему правилу. Назовем рецепты короткими, если их продолжительность составляет менее 10 минут; стандартными, если их продолжительность составляет более 10, но менее 20 минут; и длинными, если их продолжительность составляет не менее 20 минут. Создайте трехмерный массив, где нулевая ось отвечает за номер группы (короткий, стандартный или длинный рецепт), первая ось - за сам рецепт и вторая ось - за характеристики рецепта. Выберите максимальное количество рецептов из каждой группы таким образом, чтобы было возможно сформировать трехмерный массив. Выведите форму полученного массива."
   ]
  },
  {
   "cell_type": "code",
   "execution_count": 23,
   "metadata": {},
   "outputs": [
    {
     "data": {
      "text/plain": [
       "(3, 7588, 3)"
      ]
     },
     "execution_count": 23,
     "metadata": {},
     "output_type": "execute_result"
    }
   ],
   "source": [
    "short = df[df[:,1]<10]\n",
    "st = df[(df[:,1]>10)&(df[:,1]<20)]\n",
    "long = df[df[:,1]>=20]\n",
    "dim = min(len(short), len(st), len(long))\n",
    "arr = np.stack([short[:dim], st[:dim], long[:dim]])\n",
    "arr.shape"
   ]
  },
  {
   "cell_type": "code",
   "execution_count": null,
   "metadata": {},
   "outputs": [],
   "source": []
  }
 ],
 "metadata": {
  "colab": {
   "provenance": []
  },
  "kernelspec": {
   "display_name": "Python 3 (ipykernel)",
   "language": "python",
   "name": "python3"
  },
  "language_info": {
   "codemirror_mode": {
    "name": "ipython",
    "version": 3
   },
   "file_extension": ".py",
   "mimetype": "text/x-python",
   "name": "python",
   "nbconvert_exporter": "python",
   "pygments_lexer": "ipython3",
   "version": "3.9.7"
  }
 },
 "nbformat": 4,
 "nbformat_minor": 1
}
